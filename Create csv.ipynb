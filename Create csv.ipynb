{
 "cells": [
  {
   "cell_type": "code",
   "execution_count": 1,
   "metadata": {},
   "outputs": [
    {
     "name": "stdout",
     "output_type": "stream",
     "text": [
      "El listado de imágenes con id y url ha sido guardado en 'listado_imagenes.csv'.\n"
     ]
    }
   ],
   "source": [
    "import os\n",
    "import pandas as pd\n",
    "\n",
    "# Obtener el directorio actual donde está la notebook\n",
    "ruta_carpeta = os.getcwd()  # Esto te da el directorio actual donde está la notebook\n",
    "\n",
    "# Crear una lista para almacenar las rutas de los archivos .png\n",
    "lista_png = []\n",
    "\n",
    "# Recorrer todas las subcarpetas y archivos dentro del directorio actual\n",
    "for carpeta_raiz, subcarpetas, archivos in os.walk(ruta_carpeta):\n",
    "    for archivo in archivos:\n",
    "        # Si el archivo tiene extensión .png, lo agregamos a la lista\n",
    "        if archivo.endswith('.jpg'):\n",
    "            # Agregar la ruta completa (subcarpeta/archivo.png)\n",
    "            lista_png.append(os.path.join(carpeta_raiz, archivo))\n",
    "\n",
    "# Convertir la lista en un DataFrame de pandas\n",
    "df_imagenes = pd.DataFrame(lista_png, columns=['Rutas'])\n",
    "\n",
    "# Crear la columna 'id' con el formato 'picture1', 'picture2', etc.\n",
    "df_imagenes['id'] = ['picture' + str(i + 1) for i in range(len(df_imagenes))]\n",
    "\n",
    "# Crear la columna 'url' concatenando la URL base con la ruta\n",
    "base_url = \"https://raw.githubusercontent.com/kampax/Fotos/main/\"\n",
    "df_imagenes['url'] = df_imagenes['Rutas'].apply(lambda x: base_url + x.replace(\"\\\\\", \"/\").replace(ruta_carpeta.replace(\"\\\\\", \"/\") + \"/\", \"\"))\n",
    "\n",
    "# Quedarnos solo con las columnas 'id' y 'url'\n",
    "df_final = df_imagenes[['id', 'url']]\n",
    "\n",
    "# Guardar el DataFrame en un archivo CSV\n",
    "df_final.to_csv('listado_imagenes.csv', index=False)\n",
    "\n",
    "print(\"El listado de imágenes con id y url ha sido guardado en 'listado_imagenes.csv'.\")\n",
    "\n"
   ]
  }
 ],
 "metadata": {
  "kernelspec": {
   "display_name": "Python 3",
   "language": "python",
   "name": "python3"
  },
  "language_info": {
   "codemirror_mode": {
    "name": "ipython",
    "version": 3
   },
   "file_extension": ".py",
   "mimetype": "text/x-python",
   "name": "python",
   "nbconvert_exporter": "python",
   "pygments_lexer": "ipython3",
   "version": "3.11.5"
  }
 },
 "nbformat": 4,
 "nbformat_minor": 2
}
